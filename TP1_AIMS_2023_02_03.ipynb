{
  "cells": [
    {
      "cell_type": "markdown",
      "metadata": {
        "id": "view-in-github",
        "colab_type": "text"
      },
      "source": [
        "<a href=\"https://colab.research.google.com/github/KhoudiaMbodji/PROBA-FINAL/blob/master/TP1_AIMS_2023_02_03.ipynb\" target=\"_parent\"><img src=\"https://colab.research.google.com/assets/colab-badge.svg\" alt=\"Open In Colab\"/></a>"
      ]
    },
    {
      "cell_type": "markdown",
      "metadata": {
        "id": "vW5ylW9CTQV-"
      },
      "source": [
        "# Notebook TP 1¶"
      ]
    },
    {
      "cell_type": "markdown",
      "metadata": {
        "id": "L13Yw7tYTQWC"
      },
      "source": [
        "You will use this notebook to answer the exercises. You can add text (markdown) or code cells as you see fit.\n",
        "\n",
        "In this first session, we take control of the software: we play with the notion of numerical approximation of a derivative. We also experiment the visualizing methods of two variable functions (graph and isovalues)\n",
        "\n",
        "\n"
      ]
    },
    {
      "cell_type": "markdown",
      "metadata": {
        "id": "I-pg1z55TQWD"
      },
      "source": [
        "The lab is not finished : there are questions to be answered yet. You can finish the work during the week-end and send me your completed notebook monday before the class, by team, the same team as for the assignent for next thursday.\n"
      ]
    },
    {
      "cell_type": "markdown",
      "metadata": {
        "id": "QOq59HjzTQWE"
      },
      "source": [
        "In this cell type the names of the member of the team :\n",
        "    \n",
        "    \n",
        "    -------\n",
        "    -------\n",
        "    -------\n",
        "    "
      ]
    },
    {
      "cell_type": "markdown",
      "metadata": {
        "id": "pggXQ7afTQWE"
      },
      "source": [
        ":# Numerical Approximation of a derivative"
      ]
    },
    {
      "cell_type": "markdown",
      "metadata": {
        "id": "9xfrQuclTQWE"
      },
      "source": [
        "The aim of the exercise is to verify the numerical precision of\n",
        "two approximations by finite differences\n",
        "of the derivative of a function \n",
        "$$\n",
        "(1)\\quad\\quad f'(x)\\approx \\frac{f(x+h)-f(x)}{h}$$\n",
        "$$\n",
        "(2)\\quad\\quad f'(x)\\approx \\frac{f(x+h)-f(x-h)}{2h}.$$\n",
        "\n",
        "Calculate the order of the error made by approximating the derivative by these approximations for $ h \\neq 0 $. "
      ]
    },
    {
      "cell_type": "markdown",
      "metadata": {
        "id": "25cwx8W4TQWF"
      },
      "source": [
        "We will do the exercise for each of the functions below, duplicating the cells as many times as necessary. \n",
        "$ f_1(x)=\\exp(x)\\cos(x)$\n",
        "\n",
        "$ f_2(x) =\\left\\{\\begin{array}-(x-0.5)^2\\mbox{ if }x<0.5,\\\\ -(x-0.5)^2\\mbox{ otherwise}.\\end{array}\\right.$\n",
        "\n",
        "$ f_3(x) =x^2$\n",
        "\n",
        "$ f_4(x) =|x|$, for this last exemple, make the link with the sub gradient notion introduced in class\n",
        "\n",
        "The  notebook includes response elements for the function  $f(x)=\\sin(x)$.\n"
      ]
    },
    {
      "cell_type": "code",
      "execution_count": null,
      "metadata": {
        "id": "YqGgMAluTQWG"
      },
      "outputs": [],
      "source": []
    },
    {
      "cell_type": "markdown",
      "metadata": {
        "id": "mtV5_9vwTQWG"
      },
      "source": [
        "In a code cell, load the libraries  numpy, math and matplotlib "
      ]
    },
    {
      "cell_type": "code",
      "execution_count": null,
      "metadata": {
        "id": "jCC91z0PTQWH"
      },
      "outputs": [],
      "source": [
        "import numpy as np\n",
        "import math\n",
        "import matplotlib.pyplot as plt\n",
        "%matplotlib inline   \n",
        "# this command show plots in the notebook"
      ]
    },
    {
      "cell_type": "markdown",
      "metadata": {
        "id": "rLYSohgETQWI"
      },
      "source": [
        "Define the variables\n",
        "$h=0.1$, the number of visualization points $n$ and  a vector of abscissa $x$ in order to discretize the interval\n",
        " $[0,\\pi]$, $x_i=i \\pi/n$, $i=0,\\ldots,n$ (use  numpy command : linspace)."
      ]
    },
    {
      "cell_type": "code",
      "execution_count": null,
      "metadata": {
        "id": "ls37w8u1TQWI"
      },
      "outputs": [],
      "source": [
        "h=0.01\n",
        "n=100\n",
        "x=np.linspace(0,np.pi,n)"
      ]
    },
    {
      "cell_type": "code",
      "execution_count": null,
      "metadata": {
        "id": "v57Iu385TQWI"
      },
      "outputs": [],
      "source": [
        "x[n-1]"
      ]
    },
    {
      "cell_type": "markdown",
      "metadata": {
        "id": "5PjmukYDTQWJ"
      },
      "source": [
        "Compute (without $for$ loop) in an array $d$ the exact derivative of the function $f$ at points $x$ and in an array $d1$ the approximated values with the  formula (1) above\n",
        "\n",
        "Represent both $d$ and $d1$ in the same graph, with a legend and axis labels\n",
        "\n"
      ]
    },
    {
      "cell_type": "code",
      "execution_count": null,
      "metadata": {
        "id": "CLqempvUTQWJ"
      },
      "outputs": [],
      "source": [
        "d=np.cos(x)\n",
        "d1=(np.sin(x+h)-np.sin(x))/h\n",
        "plt.figure()\n",
        "plt.plot(x,d,'r',label='cos(x)')\n",
        "plt.plot(x,d1,'b',label='FD1')\n",
        "plt.xlabel('x')\n",
        "plt.ylabel('f''(x)')\n",
        "plt.title('derivative of f(x)=sin(x)')\n",
        "plt.legend()\n"
      ]
    },
    {
      "cell_type": "markdown",
      "metadata": {
        "id": "8ubPUXPpTQWJ"
      },
      "source": [
        "Compute the maximal error \n",
        "$$e_1=\\displaystyle\\max_{i=1,n}|dx1_i-dx_i|$$\n",
        "using this approximation in the\n",
        " $[0,\\pi]$ interval (use  numpy.linalg.norm comand). \n",
        "\n",
        "Print the result\n",
        "\n",
        "Do it again with a smaller $h$. What do you notice ?\n"
      ]
    },
    {
      "cell_type": "code",
      "execution_count": null,
      "metadata": {
        "id": "BqByJBAdTQWK"
      },
      "outputs": [],
      "source": [
        "#compute the inf norm of the error between f'(x) \n",
        "#and FD approximation\n",
        "e1=np.linalg.norm(d1-d,np.inf)\n",
        "print('L1 error between FD1 and f''(x)=',e1)"
      ]
    },
    {
      "cell_type": "markdown",
      "metadata": {
        "id": "DKXamWFuTQWK"
      },
      "source": [
        "Same questions with the second formula (2), compute the approximation in an array $d2$\n"
      ]
    },
    {
      "cell_type": "code",
      "execution_count": null,
      "metadata": {
        "id": "_U7IX0JqTQWK"
      },
      "outputs": [],
      "source": []
    },
    {
      "cell_type": "code",
      "execution_count": null,
      "metadata": {
        "id": "vz54wcKLTQWK"
      },
      "outputs": [],
      "source": []
    },
    {
      "cell_type": "markdown",
      "metadata": {
        "id": "Vc5ROXd8TQWL"
      },
      "source": [
        "Represent $d$,  $d1$ and $d2$ in the same graph, with a legend and axis labels\n",
        "\n",
        " \n",
        "Interprate the graph "
      ]
    },
    {
      "cell_type": "code",
      "execution_count": null,
      "metadata": {
        "id": "jP4D8OoOTQWL"
      },
      "outputs": [],
      "source": [
        "\n"
      ]
    },
    {
      "cell_type": "markdown",
      "metadata": {
        "id": "wVGIS8kUTQWL"
      },
      "source": [
        "Define a function max\\_error with input parameter $h$ and return values\n",
        "the maximal errors between the two approximations and the exact derivative\n",
        "\n"
      ]
    },
    {
      "cell_type": "code",
      "execution_count": null,
      "metadata": {
        "id": "_tePbSjGTQWL"
      },
      "outputs": [],
      "source": [
        "# solution for one approximation DF1\n",
        "def max_error(h):\n",
        "    n=100\n",
        "    x=np.linspace(0,np.pi,n)\n",
        "    d=np.cos(x)\n",
        "    d1=(np.sin(x+h)-np.sin(x))/h\n",
        "    return np.linalg.norm(d1-d,np.inf)"
      ]
    },
    {
      "cell_type": "code",
      "execution_count": null,
      "metadata": {
        "id": "0w36GjD3TQWM"
      },
      "outputs": [],
      "source": [
        "max_error(0.01)"
      ]
    },
    {
      "cell_type": "markdown",
      "metadata": {
        "id": "s9cfZ3ooTQWM"
      },
      "source": [
        "Test the function  max\\_error on several values of $h$\n"
      ]
    },
    {
      "cell_type": "code",
      "execution_count": null,
      "metadata": {
        "id": "PfTQeWXhTQWM"
      },
      "outputs": [],
      "source": [
        "print(max_error(0.1),max_error(0.01),max_error(0.001))"
      ]
    },
    {
      "cell_type": "markdown",
      "metadata": {
        "id": "MBkd99XGTQWN"
      },
      "source": [
        "Define an array $H$ containing increasing values between $10^{-10}$ and\n",
        "$0.1$ (use  numpy command  logspace). \n",
        "\n",
        "Compute the errors for the $H$ values into two lists $E1$ and $E2$\n",
        "\n",
        "Plot the graph of $E1$ and $E2$ versus $H$ in logarithmic coordinates (pyplot commands xscale and yscale). \n",
        "\n",
        "Plot the theoretical trends of the errors on the same graph\n",
        "\n"
      ]
    },
    {
      "cell_type": "code",
      "execution_count": null,
      "metadata": {
        "id": "VI82tlFgTQWN"
      },
      "outputs": [],
      "source": [
        "H=np.logspace(-10,1)\n",
        "E1=[]\n",
        "for h in H:\n",
        "    E1.append(max_error(h))\n",
        "#plt.plot(H,E1,'o',label='FD1 error')\n",
        "plt.loglog(H,E1,'o',label='FD1 error')\n",
        "plt.loglog(H,H,'-',label='O(h)')\n",
        "plt.xlabel('h')\n",
        "plt.ylabel('error')\n",
        "plt.legend()\n",
        "    "
      ]
    },
    {
      "cell_type": "markdown",
      "metadata": {
        "id": "SfmZtAufTQWN"
      },
      "source": [
        "# Visualization of a 2d function"
      ]
    },
    {
      "cell_type": "markdown",
      "metadata": {
        "id": "ySAfav7oTQWO"
      },
      "source": [
        "In a code cell, load the libraries  numpy, math and matplotlib + specific 3D tools"
      ]
    },
    {
      "cell_type": "code",
      "execution_count": null,
      "metadata": {
        "id": "1XLWMlonTQWO"
      },
      "outputs": [],
      "source": [
        "import numpy as np\n",
        "import matplotlib.pyplot as plt\n",
        "import math\n",
        "from mpl_toolkits.mplot3d import Axes3D\n",
        "from matplotlib import cm\n",
        "\n",
        "%matplotlib inline "
      ]
    },
    {
      "cell_type": "markdown",
      "metadata": {
        "id": "NmRt8Zq_TQWO"
      },
      "source": [
        "\n",
        "Consider the 3 functions\n",
        "\\begin{eqnarray}\n",
        "quad: R^n\\rightarrow R, \\quad quad(X)&=&\\frac{1}{2}\\langle Ax,x\\rangle+\\langle b,x\\rangle +c,\\quad A\\in R^{n\\times n},~b\\in R^n,~c\\in R\\\\\n",
        "f24:R^2\\rightarrow R, \\quad f24(X)&=& {(x_1-2)^2+(x_2-3)^4},\n",
        "\\\\\n",
        "rast: R^n\\rightarrow  R,\\quad rast(X)&=&n+||X||^2-\\sum_{i=1}^n\\cos(\\beta x_i), \\mbox{  with } \\beta=5.\n",
        "\\end{eqnarray}\n"
      ]
    },
    {
      "cell_type": "code",
      "execution_count": null,
      "metadata": {
        "id": "8ZlPVvcJTQWO"
      },
      "outputs": [],
      "source": [
        "A=np.array([[3.,-0.2],[-0.2,2.]])\n",
        "B=np.array([-2.6,-3.8])\n",
        "X=np.array([-1.,-2.])\n",
        "C=-30\n",
        "print (X,A,B,C)"
      ]
    },
    {
      "cell_type": "markdown",
      "metadata": {
        "id": "PJ7sd0HCTQWO"
      },
      "source": [
        "Program a function quad(X,A,B,C) and test it on the values defined above"
      ]
    },
    {
      "cell_type": "code",
      "execution_count": null,
      "metadata": {
        "id": "lll8J2fcTQWP"
      },
      "outputs": [],
      "source": [
        "def quadABC(X,A,B,C):\n",
        "    return 0.5*A.dot(X).dot(X)+B.dot(X)+C\n",
        "def quad(X):\n",
        "    return quadABC(X,A,B,C)"
      ]
    },
    {
      "cell_type": "markdown",
      "metadata": {
        "id": "nOU8TM8iTQWP"
      },
      "source": [
        "The following cell daws the graph and isovalues of the  quad function"
      ]
    },
    {
      "cell_type": "code",
      "execution_count": null,
      "metadata": {
        "id": "NOUOpY7yTQWP"
      },
      "outputs": [],
      "source": [
        "n1=50\n",
        "n2=40\n",
        "x1_=np.linspace(-3.,5.,n1)\n",
        "x2_=np.linspace(-3.,5.,n2)\n",
        "s_=np.zeros((n2,n1))\n",
        "#sx1_=np.zeros((n1,n2))\n",
        "#sx2_=np.zeros((n1,n2))\n",
        "print (s_)\n",
        "sx1_,sx2_=np.meshgrid(x1_,x2_)\n",
        "for i in range(n1):\n",
        "    for j in range (n2):\n",
        "        s_[j,i]=quad(np.array([x1_[i],x2_[j]]))\n",
        "#print s_, sx1_,sx2_\n",
        "fig = plt.figure()\n",
        "fig.clf()\n",
        "\n",
        "ax = fig.add_subplot(121, projection='3d')\n",
        "\n",
        "ax.plot_surface(sx1_,sx2_,s_,rstride=1, cstride=1, cmap=cm.coolwarm,\n",
        "                       linewidth=0, antialiased=False)\n",
        "ax.set_xlabel('x1')\n",
        "ax.set_ylabel('x2')\n",
        "ax.set_zlabel('f')\n",
        "ax.set_title('Graph and isovalues \\n of the quad function')\n",
        "ay = fig.add_subplot(122)\n",
        "\n",
        "ay.contour(sx1_,sx2_,s_)\n",
        "ay.set_xlabel('x1')\n",
        "ay.set_ylabel('x2')\n",
        "fig.tight_layout()\n",
        "\n",
        "\n",
        "#ax.contour(sx1_,sx2_,s_)"
      ]
    },
    {
      "cell_type": "markdown",
      "metadata": {
        "id": "YuKYp8MSTQWP"
      },
      "source": [
        "The followin example is more complcated and draws 3 functions isovalues on the same figure"
      ]
    },
    {
      "cell_type": "code",
      "execution_count": null,
      "metadata": {
        "id": "tVvqwSDETQWP"
      },
      "outputs": [],
      "source": [
        "def fex(X):\n",
        "    return (X[0]**2+X[1]**2)*math.exp(-X[0])\n",
        "def fex2(X):\n",
        "    return (X[0]**2+X[1]**2)*math.exp(-X[1])\n",
        "def fex3(X):\n",
        "    return (X[0]**2+X[1]**2)\n",
        "n1=50\n",
        "n2=40\n",
        "a=4\n",
        "x1_=np.linspace(-a,a,n1)\n",
        "x2_=np.linspace(-a,a,n2)\n",
        "s_=np.zeros((n2,n1))\n",
        "s2_=np.zeros((n2,n1))\n",
        "s3_=np.zeros((n2,n1))\n",
        "sx1_,sx2_=np.meshgrid(x1_,x2_)\n",
        "for i in range(n1):\n",
        "    for j in range (n2):\n",
        "        s_[j,i]=fex(np.array([x1_[i],x2_[j]]))\n",
        "        s2_[j,i]=fex2(np.array([x1_[i],x2_[j]]))\n",
        "        s3_[j,i]=fex3(np.array([x1_[i],x2_[j]]))\n",
        "#print s_, sx1_,sx2_\n",
        "fig = plt.figure(figsize=(30,10))\n",
        "fig.clf()\n",
        "manual_locations = [(-1, -1.4), (-0.62, -0.7), (-2, 0.5), (1.7, 1.2), (2.0, 1.4), (2.4, 1.7)]\n",
        "#plt.clabel(CS, inline=1, fontsize=10, manual=manual_locations)\n",
        "levels = [0.5,1.,1.4,5. ,10.,100]\n",
        "ax = fig.add_subplot(131)\n",
        "CS=ax.contour(sx1_,sx2_,s_,levels,colors='k')\n",
        "ax.clabel(CS, inline=1, fontsize=20)\n",
        "ax.set_title('f_1')\n",
        "ax.set_xlabel('x', fontsize=20)\n",
        "ax.set_ylabel('y', fontsize=20)\n",
        "ax.set_aspect('equal')\n",
        "ax = fig.add_subplot(132)\n",
        "CS=ax.contour(sx1_,sx2_,s2_,levels,colors='k')\n",
        "ax.clabel(CS, inline=1, fontsize=20)\n",
        "ax.set_title('f_2')\n",
        "ax.set_xlabel('x', fontsize=20)\n",
        "ax.set_ylabel('y', fontsize=20)\n",
        "ax.set_aspect('equal')\n",
        "ax = fig.add_subplot(133)\n",
        "CS=ax.contour(sx1_,sx2_,s3_,levels,colors='k')\n",
        "ax.clabel(CS, inline=1, fontsize=20)\n",
        "ax.set_title('f_3')\n",
        "ax.set_xlabel('x', fontsize=20)\n",
        "ax.set_ylabel('y', fontsize=20)\n",
        "ax.set_aspect('equal')\n",
        "plt.tight_layout()\n",
        "plt.savefig('isoval.png')"
      ]
    },
    {
      "cell_type": "markdown",
      "metadata": {
        "id": "zKREW0buTQWQ"
      },
      "source": [
        "Adapt the above code to define a function displaying the graph and isovalues of a function passed in input\n"
      ]
    },
    {
      "cell_type": "code",
      "execution_count": null,
      "metadata": {
        "id": "hb5kBtlMTQWQ"
      },
      "outputs": [],
      "source": [
        "def plot_function(fun,center,dimensions):\n",
        "    # name of the function to be drawn\n",
        "    # center of the display area (list or np.array of length 2) center=[c_1,c_2]\n",
        "    # dimensions of the display area  (list or np.array of length 2)\n",
        "    # your code below\n",
        "    n1=50\n",
        "    n2=40\n",
        "    x1_=np.linspace(center[0]-dimensions[0]/2,center[0]+dimensions[0]/2,n1)\n",
        "    x2_=np.linspace(center[1]-dimensions[1]/2,center[1]+dimensions[1]/2,n2)\n",
        "    s_=np.zeros((n2,n1))\n",
        "    sx1_,sx2_=np.meshgrid(x1_,x2_)\n",
        "    for i in range(n1):\n",
        "        for j in range (n2):\n",
        "            s_[j,i]=fun(np.array([x1_[i],x2_[j]]))\n",
        "    fig = plt.figure()\n",
        "    fig.clf()\n",
        "\n",
        "    ax = fig.add_subplot(121, projection='3d')\n",
        "    ax.plot_surface(sx1_,sx2_,s_,rstride=1, cstride=1, cmap=cm.coolwarm,\n",
        "                       linewidth=0, antialiased=False)\n",
        "    ax.set_xlabel('x1')\n",
        "    ax.set_ylabel('x2')\n",
        "    ax.set_zlabel('f')\n",
        "    ax.set_title('Graph and isovalues')\n",
        "    ay = fig.add_subplot(122)\n",
        "\n",
        "    ay.contour(sx1_,sx2_,s_)\n",
        "    ay.set_xlabel('x1')\n",
        "    ay.set_ylabel('x2')\n",
        "    fig.tight_layout()\n",
        "    return 1"
      ]
    },
    {
      "cell_type": "markdown",
      "metadata": {
        "id": "tt0PNF_xTQWQ"
      },
      "source": [
        "Test the  plot_function  function on the quad function"
      ]
    },
    {
      "cell_type": "code",
      "execution_count": null,
      "metadata": {
        "id": "qKn2nXDUTQWR"
      },
      "outputs": [],
      "source": [
        "plot_function(quad,[1,2],[5,5])"
      ]
    },
    {
      "cell_type": "markdown",
      "metadata": {
        "id": "NA2hgCDeTQWR"
      },
      "source": [
        "Draw the graph and isovalues of  functions $f23(x1,x2)$ and $rast(x1,x2)$ for an interesting range values. "
      ]
    },
    {
      "cell_type": "code",
      "execution_count": null,
      "metadata": {
        "id": "sYCSclR1TQWR"
      },
      "outputs": [],
      "source": [
        "def f23(x):\n",
        "    return (x[0]-2)**2+(x[1]-3)**4"
      ]
    },
    {
      "cell_type": "markdown",
      "metadata": {
        "id": "ShF9GdgsTQWR"
      },
      "source": [
        "Modify  the function plot_function so that it also draws a red cross in a given point $x_x$ sent in input.\n"
      ]
    },
    {
      "cell_type": "code",
      "execution_count": null,
      "metadata": {
        "id": "b5xqfiXkTQWR"
      },
      "outputs": [],
      "source": [
        "plot_function(f23,[2,3],[5,5])"
      ]
    },
    {
      "cell_type": "markdown",
      "metadata": {
        "id": "hSvpN3t2TQWR"
      },
      "source": [
        "For each of the three functions add a red cross at the pposition of the global minimum, computed or defined separately."
      ]
    },
    {
      "cell_type": "code",
      "execution_count": null,
      "metadata": {
        "id": "PFsYJvasTQWR"
      },
      "outputs": [],
      "source": [
        "def plot_function(fun,center,dimensions,xstar,title='title'):\n",
        "    # name of the function to be drawn\n",
        "    # center of the display area (list or np.array of length 2) center=[c_1,c_2]\n",
        "    # dimensions of the display area  (list or np.array of length 2)\n",
        "    # your code below\n",
        "    n1=50\n",
        "    n2=40\n",
        "    x1_=np.linspace(center[0]-dimensions[0]/2,center[0]+dimensions[0]/2,n1)\n",
        "    x2_=np.linspace(center[1]-dimensions[1]/2,center[1]+dimensions[1]/2,n2)\n",
        "    s_=np.zeros((n2,n1))\n",
        "    sx1_,sx2_=np.meshgrid(x1_,x2_)\n",
        "    for i in range(n1):\n",
        "        for j in range (n2):\n",
        "            s_[j,i]=fun(np.array([x1_[i],x2_[j]]))\n",
        "    fig = plt.figure()\n",
        "    fig.clf()\n",
        "\n",
        "    ax = fig.add_subplot(121, projection='3d')\n",
        "    ax.plot_surface(sx1_,sx2_,s_,rstride=1, cstride=1, cmap=cm.coolwarm,\n",
        "                       linewidth=0, antialiased=False)\n",
        "    ax.set_xlabel('x1')\n",
        "    ax.set_ylabel('x2')\n",
        "    ax.set_zlabel('f')\n",
        "    ax.set_title(title)\n",
        "    ay = fig.add_subplot(122)\n",
        "\n",
        "    ay.contour(sx1_,sx2_,s_)\n",
        "    ay.plot(xstar[0],xstar[1],'rx')\n",
        "    ay.set_xlabel('x1')\n",
        "    ay.set_ylabel('x2')\n",
        "    fig.tight_layout()\n",
        "    return 1"
      ]
    },
    {
      "cell_type": "code",
      "execution_count": null,
      "metadata": {
        "id": "h-Q9Yt7qTQWS"
      },
      "outputs": [],
      "source": [
        "plot_function(f23,[2,3],[5,5],[2,3],'function f23')"
      ]
    },
    {
      "cell_type": "code",
      "execution_count": null,
      "metadata": {
        "id": "t3o0WoquTQWS"
      },
      "outputs": [],
      "source": []
    }
  ],
  "metadata": {
    "kernelspec": {
      "display_name": "Python 3 (ipykernel)",
      "language": "python",
      "name": "python3"
    },
    "language_info": {
      "codemirror_mode": {
        "name": "ipython",
        "version": 3
      },
      "file_extension": ".py",
      "mimetype": "text/x-python",
      "name": "python",
      "nbconvert_exporter": "python",
      "pygments_lexer": "ipython3",
      "version": "3.9.7"
    },
    "notebookname": "Fibonacci",
    "version": "1.0",
    "colab": {
      "provenance": [],
      "include_colab_link": true
    }
  },
  "nbformat": 4,
  "nbformat_minor": 0
}